{
 "cells": [
  {
   "cell_type": "code",
   "execution_count": 1,
   "metadata": {},
   "outputs": [],
   "source": [
    "from skimage.measure import label, regionprops\n",
    "from captchas_generator import CaptchasGenerator\n",
    "import numpy as np\n",
    "from matplotlib import pyplot as plt\n",
    "import pickle"
   ]
  },
  {
   "cell_type": "markdown",
   "metadata": {},
   "source": [
    "### 1. Generating Simple CAPTCHAS"
   ]
  },
  {
   "cell_type": "code",
   "execution_count": 2,
   "metadata": {},
   "outputs": [],
   "source": [
    "captcObj = CaptchasGenerator()\n",
    "captchGen = captcObj.generate_sample(500)"
   ]
  },
  {
   "cell_type": "code",
   "execution_count": 19,
   "metadata": {},
   "outputs": [
    {
     "name": "stdout",
     "output_type": "stream",
     "text": [
      "The target for this image is: 22\n"
     ]
    },
    {
     "data": {
      "image/png": "[encoded data removed]",
      "text/plain": [
       "<Figure size 432x288 with 1 Axes>"
      ]
     },
     "metadata": {
      "needs_background": "light"
     },
     "output_type": "display_data"
    }
   ],
   "source": [
    "image, target = captchGen.__next__()\n",
    "plt.imshow(image, cmap=\"Greys\")\n",
    "print(\"The target for this image is: {0}\".format(target))"
   ]
  },
  {
   "cell_type": "markdown",
   "metadata": {},
   "source": [
    "### Letters Datasets Generators\n",
    "- Tagets are integer values between 0 and 26\n",
    "- Each integer represent a letter of alphabet"
   ]
  },
  {
   "cell_type": "code",
   "execution_count": 3,
   "metadata": {},
   "outputs": [],
   "source": [
    "captcObj = CaptchasGenerator()\n",
    "captchGen = captcObj.generate_sample(3000)"
   ]
  },
  {
   "cell_type": "code",
   "execution_count": 4,
   "metadata": {},
   "outputs": [],
   "source": [
    "dataset = []\n",
    "targets = []\n",
    "for let_im, let_tar in captchGen:\n",
    "    dataset.append(let_im)\n",
    "    targets.append(let_tar)"
   ]
  },
  {
   "cell_type": "code",
   "execution_count": 16,
   "metadata": {},
   "outputs": [],
   "source": [
    "with open(\"../../data/captchas/base-captchas/image\", \"wb\") as f:\n",
    "    pickle.dump(dataset,f)\n",
    "\n",
    "with open(\"../../data/captchas/base-captchas/targets\", \"wb\") as f:\n",
    "    pickle.dump(targets,f)\n",
    "    "
   ]
  },
  {
   "cell_type": "markdown",
   "metadata": {},
   "source": [
    "### Words DataSets Generator\n",
    "- Words of Size N"
   ]
  },
  {
   "cell_type": "code",
   "execution_count": 5,
   "metadata": {},
   "outputs": [],
   "source": [
    "import string"
   ]
  },
  {
   "cell_type": "code",
   "execution_count": 12,
   "metadata": {},
   "outputs": [],
   "source": [
    "def generate_captchas_words(max_words=10000, wrd_size=4, size=(100,50) ):\n",
    "        i=0\n",
    "        captchGenerator = CaptchasGenerator()\n",
    "        letters = string.ascii_uppercase\n",
    "        # Generating Image Captchas Sets\n",
    "\n",
    "        for i in range(max_words):\n",
    "            new_code = ''.join(np.random.choice(list(letters),wrd_size)).upper()\n",
    "            new_capth_wrd = captchGenerator.create_captcha(new_code, shear=np.random.uniform(0,1), size=size)\n",
    "\n",
    "            yield new_capth_wrd, new_code"
   ]
  },
  {
   "cell_type": "code",
   "execution_count": 13,
   "metadata": {},
   "outputs": [],
   "source": [
    "genet = generate_captchas_words()\n",
    "\n",
    "wordsimg = []\n",
    "wordstr = []\n",
    "for input_captch_wrd, target_captchas in genet:\n",
    "    wordstr.append(target_captchas)\n",
    "    wordsimg.append(input_captch_wrd)\n"
   ]
  },
  {
   "cell_type": "code",
   "execution_count": 24,
   "metadata": {},
   "outputs": [
    {
     "data": {
      "text/plain": [
       "<matplotlib.image.AxesImage at 0x7f35261f2790>"
      ]
     },
     "execution_count": 24,
     "metadata": {},
     "output_type": "execute_result"
    },
    {
     "data": {
      "image/png": "[encoded data removed]",
      "text/plain": [
       "<Figure size 432x288 with 1 Axes>"
      ]
     },
     "metadata": {
      "needs_background": "light"
     },
     "output_type": "display_data"
    }
   ],
   "source": [
    "CaptchasGenerator().display_word(wordsimg[0])"
   ]
  },
  {
   "cell_type": "code",
   "execution_count": 23,
   "metadata": {},
   "outputs": [],
   "source": [
    "with open(\"../../data/captchas/words-base-captchas/words-basic-img\", \"wb\") as f:\n",
    "    pickle.dump(wordsimg,f)\n",
    "\n",
    "with open(\"../../data/captchas/words-base-captchas/words-label\", \"wb\") as f:\n",
    "    pickle.dump(wordstr,f)\n",
    "    "
   ]
  }
 ],
 "metadata": {
  "kernelspec": {
   "display_name": "Python 3",
   "language": "python",
   "name": "python3"
  },
  "language_info": {
   "codemirror_mode": {
    "name": "ipython",
    "version": 3
   },
   "file_extension": ".py",
   "mimetype": "text/x-python",
   "name": "python",
   "nbconvert_exporter": "python",
   "pygments_lexer": "ipython3",
   "version": "3.7.7"
  }
 },
 "nbformat": 4,
 "nbformat_minor": 4
}
