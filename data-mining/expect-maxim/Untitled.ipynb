{
 "cells": [
  {
   "cell_type": "code",
   "execution_count": 1,
   "metadata": {},
   "outputs": [],
   "source": [
    "import numpy as np\n",
    "from scipy.stats import norm, multivariate_normal\n",
    "\n",
    "\n",
    "from mixdatagenerator import MixtureDataGenerator\n",
    "import seaborn as sns\n",
    "%matplotlib inline"
   ]
  },
  {
   "cell_type": "code",
   "execution_count": 2,
   "metadata": {},
   "outputs": [],
   "source": [
    "#\n",
    "SAMPLE_SIZE = 1000\n",
    "MU_1 = 0\n",
    "MU_2 = 3\n",
    "SIGMA_1 = 1\n",
    "SIGMA_2 = 1\n",
    "PROBA=0.6\n",
    "\n",
    "mixtureObj = MixtureDataGenerator(sample_size=SAMPLE_SIZE)\n",
    "y_mix = mixtureObj.gaussMixture(MU_1,MU_2,SIGMA_1,SIGMA_2,PROBA)"
   ]
  },
  {
   "cell_type": "code",
   "execution_count": 3,
   "metadata": {},
   "outputs": [
    {
     "data": {
      "text/plain": [
       "<matplotlib.axes._subplots.AxesSubplot at 0x7fc658764e80>"
      ]
     },
     "execution_count": 3,
     "metadata": {},
     "output_type": "execute_result"
    },
    {
     "data": {
      "image/png": "[encoded data removed]",
      "text/plain": [
       "<Figure size 432x288 with 1 Axes>"
      ]
     },
     "metadata": {},
     "output_type": "display_data"
    }
   ],
   "source": [
    "sns.set_style('whitegrid')\n",
    "sns.distplot(y_mix)"
   ]
  },
  {
   "cell_type": "markdown",
   "metadata": {},
   "source": [
    "\n",
    "The derivative of the log-likelihood with respect to $\\mu_k$,\n",
    "$$\\sum_{i=1}^{n}\\gamma_{Z_i}(k)\\frac{(x_i-\\mu_k)}{\\sigma^2_k}=0$$\n",
    "\n",
    "\n"
   ]
  },
  {
   "cell_type": "code",
   "execution_count": 4,
   "metadata": {},
   "outputs": [],
   "source": [
    "from gmm import GMM\n",
    "from scipy.stats import norm"
   ]
  },
  {
   "cell_type": "code",
   "execution_count": 5,
   "metadata": {},
   "outputs": [],
   "source": [
    "# Gaussian Mixture Models & EM Algorithm\n",
    "\n",
    "## Initialize mu_1, mu_2, sigma_1, sigma_2, p_1, p_2\n",
    "mus_init = np.array([0.1, 0])\n",
    "sigmas_init = np.array([0.5, 1])\n",
    "probas = np.array([0.35, 0.65])"
   ]
  },
  {
   "cell_type": "code",
   "execution_count": 6,
   "metadata": {},
   "outputs": [],
   "source": [
    "gmmObj = GMM(k=3)"
   ]
  },
  {
   "cell_type": "markdown",
   "metadata": {},
   "source": [
    "### Gaussian Mixture Model Log-likelihood\n",
    "\n",
    "$$l(\\theta) = Log(P(X_1 =x_1, \\dots, X_n=x_n)) = \\sum_{i=1}^{n}\\sum_{k=1}^{K} \\pi_k N(\\mu_k, \\sigma^2_k) $$"
   ]
  },
  {
   "cell_type": "code",
   "execution_count": 7,
   "metadata": {
    "code_folding": []
   },
   "outputs": [],
   "source": [
    "# 1. Evaluate log-likelihood Using Current Parameters\n",
    "\n",
    "def density_value(x, means, sigmas):\n",
    "    \"\"\" Gaussian density corresponding to a numeric vector \"\"\"\n",
    "    return np.array([gaussian_density_formula(x, means=mu, sigmas=sig) for mu, sig in zip(means, sigmas)])\n",
    "\n",
    "def gaussian_density_formula(x, means, sigmas):\n",
    "    \"\"\" Gaussian density  \"\"\"\n",
    "    return norm.pdf(x, loc=means, scale=sigmas)\n",
    "\n",
    "def loglikelihood(x, means, sigmas,probas):\n",
    "    \"\"\" Mixture Model loglikelihood \"\"\"\n",
    "    return np.sum(density_value(x, means=means, sigmas=sigmas).T *probas)"
   ]
  },
  {
   "cell_type": "code",
   "execution_count": 8,
   "metadata": {},
   "outputs": [
    {
     "data": {
      "text/plain": [
       "203.68163046015576"
      ]
     },
     "execution_count": 8,
     "metadata": {},
     "output_type": "execute_result"
    }
   ],
   "source": [
    "loglikelihood(x=y_mix, means=mus_init, sigmas=sigmas_init, probas=probas)"
   ]
  },
  {
   "cell_type": "markdown",
   "metadata": {},
   "source": [
    "### Posteriori Distribution \n",
    "Latent variables $ Z_i $, posteriori distribution of $Z_i$ given the observation,\n",
    "\n",
    "$$P(Z_i=k|X_i) = \\frac{P(X_i|Z_i=k)P(Z_i=k)}{P(X_i)} = \\frac{\\pi_k N(\\mu_k,\\sigma_k^2)}{\\sum_{k=1}^K\\pi_k N(\\mu_k, \\sigma_k)} = \\gamma_{Z_i}(k) $$"
   ]
  },
  {
   "cell_type": "code",
   "execution_count": 9,
   "metadata": {
    "code_folding": []
   },
   "outputs": [],
   "source": [
    "# 2. Compute Posteriori Distribution Using Current Parameters\n",
    "def posteriori_latent(x,means,sigmas,probas):\n",
    "    \"\"\" Posteriori distribiton with latent variables \"\"\"\n",
    "\n",
    "    # p_1 * N(x_i | mu_1, sigma_1) + p_2 * N(x_i | mu_2, sigma_2) +....\n",
    "    # matrix (SAMPLE_SIZE x K)\n",
    "    numerator = probas * density_value(x, means,sigmas).T \n",
    "\n",
    "    #  gaus\n",
    "    # (SAMPLE_SIZE x 1)\n",
    "    denominator = np.sum(probas * density_value(x, means, sigmas).T, axis=1)\n",
    "\n",
    "\n",
    "    return (numerator.T/denominator).T"
   ]
  },
  {
   "cell_type": "code",
   "execution_count": 10,
   "metadata": {},
   "outputs": [
    {
     "data": {
      "text/plain": [
       "array([[8.63515969e-10, 9.99999999e-01],\n",
       "       [4.39223238e-03, 9.95607768e-01],\n",
       "       [7.96935320e-06, 9.99992031e-01],\n",
       "       ...,\n",
       "       [5.18396225e-01, 4.81603775e-01],\n",
       "       [5.17839152e-01, 4.82160848e-01],\n",
       "       [5.05558399e-01, 4.94441601e-01]])"
      ]
     },
     "execution_count": 10,
     "metadata": {},
     "output_type": "execute_result"
    }
   ],
   "source": [
    "posteriori_latent(y_mix, mus_init, sigmas_init, probas)"
   ]
  },
  {
   "cell_type": "markdown",
   "metadata": {},
   "source": [
    "### Gaussian Mixture Model MLE\n",
    "\n",
    "___Locations (i.e Means) Estimations:___\n",
    "$$\\hat\\mu_k=\\frac{1}{N_k}\\sum_{i=1}^{n} \\gamma_{Z_i}(k)x_i, \\quad\\textrm{ where } N_k = \\sum_{i=1}^{n}\\gamma_{Z_i}(k)$$\n",
    "\n",
    "\n",
    "\n",
    "___Scale (i.e Variance) Estimations:___\n",
    "$$\\hat\\sigma^2_k = \\frac{1}{N_k}\\sum_{i=1}^{n}\\gamma_{Z_i}(k)(x_i-\\mu_k)^2$$\n",
    "\n",
    "___Probability Estimations:___\n",
    "$$\\hat p_k = \\frac{N_k}{n}, \\quad\\textrm{ where } \\sum_{k=1}^{K}\\hat p_k = 1$$\n",
    "\n",
    "*Note:*\n",
    " - $N_k$ as the effective number of points assigned to component k.\n",
    "  "
   ]
  },
  {
   "cell_type": "code",
   "execution_count": 11,
   "metadata": {
    "code_folding": []
   },
   "outputs": [],
   "source": [
    "# 3. Use Current Posteriori Distro -> estimate New parameters\n",
    "\n",
    "def mean_estimation(x, means, sigmas, probas):\n",
    "    \"\"\" Mean Estimation \"\"\"\n",
    "    posteriori_latent_ = posteriori_latent(x, means, sigmas, probas)\n",
    "    return np.sum((posteriori_latent_.T * x).T,0) / np.sum(posteriori_latent_, 0)\n",
    "\n",
    "def sigma_estimation(x, means, sigmas, probas):\n",
    "    \"\"\" Sigmas Estimation \"\"\"\n",
    "    posteriori_latent_ = posteriori_latent(x, means, sigmas, probas)\n",
    "    \n",
    "    # Because Sigma MLE depends on Means estimation\n",
    "    means_estimate = mean_estimation(x, means=means, sigmas=sigmas, probas=probas)\n",
    "    \n",
    "    return np.sum(np.power(np.array([x - mu for mu in means_estimate]).T, 2) * posteriori_latent_,0) / np.sum(posteriori_latent_,0)\n",
    "\n",
    "def probas_estimation(x, means, sigmas, probas):\n",
    "    \"\"\" Probability Estimation \"\"\"\n",
    "    posteriori_latent_ = posteriori_latent(x, means, sigmas, probas)\n",
    "    \n",
    "    return np.sum(posteriori_latent_, axis=0)/len(posteriori_latent_)\n",
    "\n",
    "# Note: Instead of computeing Posteriori Distribution each time, we can compute it One Time and passed it to each function"
   ]
  },
  {
   "cell_type": "code",
   "execution_count": 12,
   "metadata": {},
   "outputs": [
    {
     "name": "stdout",
     "output_type": "stream",
     "text": [
      "Mean Estimation  [0.11943066 1.41029782]\n",
      "Sigma Estimation  [0.32611452 3.47106151]\n",
      "Proba Estimation  [0.19912438 0.80087562]\n"
     ]
    }
   ],
   "source": [
    "print(\"Mean Estimation \", mean_estimation(y_mix, mus_init, sigmas_init, probas))\n",
    "print(\"Sigma Estimation \", sigma_estimation(y_mix,mus_init, sigmas_init, probas))\n",
    "print(\"Proba Estimation \", probas_estimation(y_mix, mus_init, sigmas_init, probas))"
   ]
  },
  {
   "cell_type": "markdown",
   "metadata": {},
   "source": [
    "### Expected Value of the Complete log-likelihood\n",
    "\n",
    "$$ E_{Z|X}[\\log (P(X,Z|\\mu,\\sigma,\\pi))]=  \\sum_{i=1}^n \\sum_{k=1}^K \\gamma_{Z_i}(k)\\left(\\log (\\pi_k) + \\log (N(x_i|\\mu_k, \\sigma_k)) \\right) $$"
   ]
  },
  {
   "cell_type": "code",
   "execution_count": 13,
   "metadata": {},
   "outputs": [],
   "source": [
    "def cloglikelihood_expectation(x, means, sigmas, probas):\n",
    "    \"\"\" Expected Value of the Complete log-likelihood \"\"\"\n",
    "    posteriori_latent_ = posteriori_latent(x, means, sigmas, probas)\n",
    "\n",
    "    return np.sum(np.sum(np.multiply(posteriori_latent_, np.log(density_value(x, means, sigmas)).T + np.log(probas)),1))"
   ]
  },
  {
   "cell_type": "code",
   "execution_count": 14,
   "metadata": {},
   "outputs": [
    {
     "data": {
      "text/plain": [
       "-3651.380836548824"
      ]
     },
     "execution_count": 14,
     "metadata": {},
     "output_type": "execute_result"
    }
   ],
   "source": [
    "cloglikelihood_expectation(y_mix, mus_init,sigmas_init,probas)"
   ]
  },
  {
   "cell_type": "code",
   "execution_count": 15,
   "metadata": {},
   "outputs": [],
   "source": [
    "# 4. Evaluate log-likelihood with the new parameter estimates\n",
    "    # 4.a If log-likelihood changed by less than some small ϵ, stop. Otherwise, go back to step 2.\n",
    "\n",
    "\n",
    "\n",
    "## Notes:\n",
    "## -EM algorithm is sensitive to the initial values of the parameters\n",
    "## -log-likelihood should increases at every step (assuming the initial values are “valid”)"
   ]
  },
  {
   "cell_type": "code",
   "execution_count": 30,
   "metadata": {},
   "outputs": [],
   "source": [
    "\n",
    "mus_init = np.array([0.3, 0.4])\n",
    "sigmas_init = np.array([1, 1])\n",
    "probas = np.array([0.35, 0.65])\n",
    "threshold = 1e-25\n",
    "\n",
    "# Compute log-likelihood for current parametes\n",
    "# Stored in log_liks\n",
    "\n",
    "\n",
    "ll_init = loglikelihood(y_mix, mus_init,sigmas_init, probas)\n",
    "\n",
    "#post_init = posteriori_latent(y_mix, mus_init, sigmas_init, probas)\n",
    "\n",
    "expect_init = cloglikelihood_expectation(y_mix, mus_init, sigmas_init, probas)\n",
    "\n",
    "delta = 1\n",
    "log_liks = [ll_init]\n",
    "expect_ = [expect_init]\n",
    "means_estimates = [mus_init]\n",
    "sigma_estimates = [sigmas_init]\n",
    "proba_estimates = [probas]\n",
    "\n",
    "while (delta>threshold):\n",
    "    \n",
    "    # Current\n",
    "    mean_curr, sig_curr, proba_curr = means_estimates[-1], sigma_estimates[-1], proba_estimates[-1]\n",
    "    \n",
    "\n",
    "    # Parameters Estimation At iteration (t+1)\n",
    "    means_estimate = mean_estimation(y_mix, mean_curr, sig_curr, proba_curr)\n",
    "    sigma_estimate = sigma_estimation(y_mix, mean_curr, sig_curr, proba_curr)\n",
    "    proba_estimate = probas_estimation(y_mix, mean_curr, sig_curr, proba_curr)\n",
    "    \n",
    "    means_estimates.append(means_estimate)\n",
    "    sigma_estimates.append(sigma_estimate)\n",
    "    proba_estimates.append(proba_estimate)\n",
    "    \n",
    "\n",
    "    # Compute E-Step\n",
    "    expec_prev = expect_[-1]\n",
    "    expec_curr = cloglikelihood_expectation(y_mix, means=means_estimate, sigmas=sigma_estimate, probas=proba_estimate)\n",
    "    \n",
    "    expect_.append(expec_curr)\n",
    "\n",
    "    # loglikelihood\n",
    "    loglike_prev = log_liks[-1]\n",
    "    loglike_curr = loglikelihood(x = y_mix, means = means_estimate, sigmas=sigma_estimate, probas=proba_estimate)\n",
    "    \n",
    "    \n",
    "    delta = abs((loglike_curr - loglike_prev))\n",
    "    #delta= abs(expec_curr-expec_prev)\n",
    "\n",
    "    log_liks.append(loglike_curr)\n",
    "    "
   ]
  },
  {
   "cell_type": "code",
   "execution_count": 31,
   "metadata": {},
   "outputs": [
    {
     "data": {
      "text/plain": [
       "[-3414.8581434132248,\n",
       " -2851.7452406916227,\n",
       " -2859.4164441025064,\n",
       " -2862.039303292924,\n",
       " -2863.122737388643,\n",
       " -2863.597095548135,\n",
       " -2863.8082184841737,\n",
       " -2863.9025454676726,\n",
       " -2863.944698346004,\n",
       " -2863.963523259271,\n",
       " -2863.9719243836585,\n",
       " -2863.9756716250886,\n",
       " -2863.9773424456275,\n",
       " -2863.978087260371,\n",
       " -2863.9784192353527,\n",
       " -2863.9785671889517,\n",
       " -2863.9786331251453,\n",
       " -2863.978662509045,\n",
       " -2863.9786756035046,\n",
       " -2863.9786814387808,\n",
       " -2863.978684039138,\n",
       " -2863.9786851979225]"
      ]
     },
     "execution_count": 31,
     "metadata": {},
     "output_type": "execute_result"
    }
   ],
   "source": [
    "expect_"
   ]
  },
  {
   "cell_type": "code",
   "execution_count": 32,
   "metadata": {},
   "outputs": [
    {
     "data": {
      "text/plain": [
       "[190.36717732253675,\n",
       " 111.21389378183919,\n",
       " 110.79669006578622,\n",
       " 110.73075662577897,\n",
       " 110.71895904049886,\n",
       " 110.71672531822577,\n",
       " 110.71629186509588,\n",
       " 110.71620681738865,\n",
       " 110.7161900398917,\n",
       " 110.71618672072078,\n",
       " 110.71618606302867,\n",
       " 110.71618593258826,\n",
       " 110.71618590670423,\n",
       " 110.71618590156636,\n",
       " 110.71618590054632,\n",
       " 110.7161859003438,\n",
       " 110.71618590030357,\n",
       " 110.71618590029557,\n",
       " 110.71618590029401,\n",
       " 110.71618590029371,\n",
       " 110.71618590029362,\n",
       " 110.71618590029362]"
      ]
     },
     "execution_count": 32,
     "metadata": {},
     "output_type": "execute_result"
    }
   ],
   "source": [
    "log_liks"
   ]
  },
  {
   "cell_type": "code",
   "execution_count": 33,
   "metadata": {},
   "outputs": [
    {
     "data": {
      "text/plain": [
       "[array([0.3, 0.4]),\n",
       " array([0.94869669, 1.25543597]),\n",
       " array([1.07929553, 1.19155814]),\n",
       " array([1.1249109 , 1.16832578]),\n",
       " array([1.14182365, 1.15942027]),\n",
       " array([1.14846822, 1.15585451]),\n",
       " array([1.15119997, 1.1543744 ]),\n",
       " array([1.15235889, 1.15374359]),\n",
       " array([1.15286052, 1.15346997]),\n",
       " array([1.15308031, 1.15334997]),\n",
       " array([1.15317731, 1.15329699]),\n",
       " array([1.15322029, 1.1532735 ]),\n",
       " array([1.15323939, 1.15326307]),\n",
       " array([1.15324788, 1.15325843]),\n",
       " array([1.15325166, 1.15325636]),\n",
       " array([1.15325335, 1.15325544]),\n",
       " array([1.1532541 , 1.15325503]),\n",
       " array([1.15325443, 1.15325485]),\n",
       " array([1.15325458, 1.15325477]),\n",
       " array([1.15325465, 1.15325473]),\n",
       " array([1.15325468, 1.15325471]),\n",
       " array([1.15325469, 1.15325471])]"
      ]
     },
     "execution_count": 33,
     "metadata": {},
     "output_type": "execute_result"
    }
   ],
   "source": [
    "\n",
    "means_estimates"
   ]
  },
  {
   "cell_type": "code",
   "execution_count": 24,
   "metadata": {},
   "outputs": [
    {
     "data": {
      "text/plain": [
       "[array([0.35, 0.65]),\n",
       " array([0.33312091, 0.66687909]),\n",
       " array([0.34119501, 0.65880499]),\n",
       " array([0.34714087, 0.65285913]),\n",
       " array([0.35038397, 0.64961603]),\n",
       " array([0.35197752, 0.64802248]),\n",
       " array([0.35272443, 0.64727557]),\n",
       " array([0.35306636, 0.64693364]),\n",
       " array([0.35322098, 0.64677902]),\n",
       " array([0.35329044, 0.64670956]),\n",
       " array([0.35332153, 0.64667847]),\n",
       " array([0.35333542, 0.64666458]),\n",
       " array([0.35334162, 0.64665838]),\n",
       " array([0.35334438, 0.64665562]),\n",
       " array([0.35334562, 0.64665438]),\n",
       " array([0.35334617, 0.64665383]),\n",
       " array([0.35334641, 0.64665359]),\n",
       " array([0.35334652, 0.64665348]),\n",
       " array([0.35334657, 0.64665343]),\n",
       " array([0.35334659, 0.64665341]),\n",
       " array([0.3533466, 0.6466534]),\n",
       " array([0.3533466, 0.6466534])]"
      ]
     },
     "execution_count": 24,
     "metadata": {},
     "output_type": "execute_result"
    }
   ],
   "source": [
    "proba_estimates"
   ]
  },
  {
   "cell_type": "code",
   "execution_count": 25,
   "metadata": {},
   "outputs": [
    {
     "data": {
      "text/plain": [
       "[array([1, 1]),\n",
       " array([2.97585035, 3.14651233]),\n",
       " array([3.02787298, 3.14908848]),\n",
       " array([3.06737987, 3.13287058]),\n",
       " array([3.08966464, 3.12172686]),\n",
       " array([3.10082774, 3.11583195]),\n",
       " array([3.10611794, 3.11298211]),\n",
       " array([3.10855536, 3.11165839]),\n",
       " array([3.1096617 , 3.11105548]),\n",
       " array([3.11015979, 3.11078363]),\n",
       " array([3.11038303, 3.11066171]),\n",
       " array([3.11048283, 3.11060719]),\n",
       " array([3.11052739, 3.11058285]),\n",
       " array([3.11054726, 3.11057199]),\n",
       " array([3.11055612, 3.11056714]),\n",
       " array([3.11056007, 3.11056499]),\n",
       " array([3.11056184, 3.11056402]),\n",
       " array([3.11056262, 3.1105636 ]),\n",
       " array([3.11056297, 3.1105634 ]),\n",
       " array([3.11056313, 3.11056332]),\n",
       " array([3.1105632 , 3.11056328]),\n",
       " array([3.11056323, 3.11056326])]"
      ]
     },
     "execution_count": 25,
     "metadata": {},
     "output_type": "execute_result"
    }
   ],
   "source": [
    "sigma_estimates"
   ]
  }
 ],
 "metadata": {
  "kernelspec": {
   "display_name": "Python 3",
   "language": "python",
   "name": "python3"
  },
  "language_info": {
   "codemirror_mode": {
    "name": "ipython",
    "version": 3
   },
   "file_extension": ".py",
   "mimetype": "text/x-python",
   "name": "python",
   "nbconvert_exporter": "python",
   "pygments_lexer": "ipython3",
   "version": "3.6.7"
  }
 },
 "nbformat": 4,
 "nbformat_minor": 2
}
